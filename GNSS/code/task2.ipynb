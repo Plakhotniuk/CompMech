{
 "cells": [
  {
   "cell_type": "code",
   "execution_count": 3,
   "id": "917d6c15",
   "metadata": {},
   "outputs": [],
   "source": [
    "import georinex as gr\n",
    "import numpy as np\n",
    "\n",
    "file = '../data/mccs3240.22o'"
   ]
  },
  {
   "cell_type": "code",
   "execution_count": 5,
   "id": "f4ad4ed3",
   "metadata": {},
   "outputs": [],
   "source": [
    "obs = gr.load(file, use='G', meas=['C1W', 'L1W', 'D1W', 'C2W', 'L2W', 'D2W'])"
   ]
  },
  {
   "cell_type": "code",
   "execution_count": 7,
   "id": "9d5dfc9f",
   "metadata": {},
   "outputs": [
    {
     "name": "stdout",
     "output_type": "stream",
     "text": [
      "<xarray.Dataset>\n",
      "Dimensions:  (sv: 31, time: 1919)\n",
      "Coordinates:\n",
      "  * sv       (sv) <U3 'G01' 'G02' 'G03' 'G04' 'G05' ... 'G29' 'G30' 'G31' 'G32'\n",
      "  * time     (time) datetime64[ns] 2022-11-20T08:00:30 ... 2022-11-20T23:59:30\n",
      "Data variables:\n",
      "    C1W      (time, sv) float64 nan nan 2.135e+07 2.039e+07 ... nan nan nan\n",
      "    C2W      (time, sv) float64 nan nan 2.135e+07 2.039e+07 ... nan nan nan\n",
      "    D1W      (time, sv) float64 nan nan -2.344e+03 572.3 ... nan nan nan\n",
      "    D2W      (time, sv) float64 nan nan -1.826e+03 445.9 ... nan nan nan\n",
      "    L1W      (time, sv) float64 nan nan 1.122e+08 1.072e+08 ... nan nan nan\n",
      "    L2W      (time, sv) float64 nan nan 8.741e+07 8.35e+07 ... nan nan nan\n",
      "Attributes:\n",
      "    version:                        3.03\n",
      "    interval:                       30.0\n",
      "    rinextype:                      obs\n",
      "    fast_processing:                0\n",
      "    time_system:                    GPS\n",
      "    filename:                       mccs3240.22o\n",
      "    position:                       [2830719.2743, 2196543.8994, 5259189.0507]\n",
      "    time_offset:                    [0.00032228425, 0.0003222865, 0.000322286...\n",
      "    receiver_clock_offset_applied:  0\n"
     ]
    }
   ],
   "source": [
    "print(obs)"
   ]
  },
  {
   "cell_type": "code",
   "execution_count": 6,
   "id": "13f3324b",
   "metadata": {},
   "outputs": [
    {
     "name": "stdout",
     "output_type": "stream",
     "text": [
      "<xarray.DataArray 'time' (time: 1919)>\n",
      "array(['2022-11-20T08:00:30.000000000', '2022-11-20T08:01:00.000000000',\n",
      "       '2022-11-20T08:01:30.000000000', ..., '2022-11-20T23:58:30.000000000',\n",
      "       '2022-11-20T23:59:00.000000000', '2022-11-20T23:59:30.000000000'],\n",
      "      dtype='datetime64[ns]')\n",
      "Coordinates:\n",
      "  * time     (time) datetime64[ns] 2022-11-20T08:00:30 ... 2022-11-20T23:59:30\n"
     ]
    }
   ],
   "source": [
    "print(obs['time'])"
   ]
  },
  {
   "cell_type": "code",
   "execution_count": null,
   "id": "3df17a81",
   "metadata": {},
   "outputs": [],
   "source": []
  }
 ],
 "metadata": {
  "kernelspec": {
   "display_name": "Python 3",
   "language": "python",
   "name": "python3"
  },
  "language_info": {
   "codemirror_mode": {
    "name": "ipython",
    "version": 3
   },
   "file_extension": ".py",
   "mimetype": "text/x-python",
   "name": "python",
   "nbconvert_exporter": "python",
   "pygments_lexer": "ipython3",
   "version": "3.8.5"
  }
 },
 "nbformat": 4,
 "nbformat_minor": 5
}
